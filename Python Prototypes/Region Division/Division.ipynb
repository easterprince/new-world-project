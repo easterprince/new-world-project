{
 "cells": [
  {
   "cell_type": "markdown",
   "metadata": {},
   "source": [
    "Region Division\n",
    "==="
   ]
  },
  {
   "cell_type": "code",
   "execution_count": 22,
   "metadata": {},
   "outputs": [],
   "source": [
    "import math\n",
    "import numpy as np\n",
    "import matplotlib.pyplot as plt\n",
    "import matplotlib.image as mpimg\n",
    "import random\n",
    "from collections import deque\n",
    "from sortedcontainers import SortedDict"
   ]
  },
  {
   "cell_type": "code",
   "execution_count": 3,
   "metadata": {},
   "outputs": [],
   "source": [
    "class InvalidOperationException(Exception):\n",
    "    pass\n",
    "\n",
    "def preprocess_map(map_data):\n",
    "    if len(map_data.shape) == 2:\n",
    "        return map_data\n",
    "    elif len(map_data.shape) == 3:\n",
    "        return np.mean(map_data[:, :, :3], axis = 2) / 255\n",
    "    else:\n",
    "        raise InvalidOperationException(\"Array must be of shape 2 or 3!\")\n",
    "        \n",
    "def show_gray_image(image):    \n",
    "    fig, ax = plt.subplots(figsize = (15, 15))\n",
    "    imgplot = ax.imshow(image, cmap = 'gray', interpolation = 'nearest')"
   ]
  },
  {
   "cell_type": "code",
   "execution_count": 4,
   "metadata": {},
   "outputs": [
    {
     "data": {
      "image/png": "[encoded data removed]",
      "text/plain": [
       "<Figure size 1080x1080 with 1 Axes>"
      ]
     },
     "metadata": {
      "needs_background": "light"
     },
     "output_type": "display_data"
    }
   ],
   "source": [
    "map_data = mpimg.imread('sample.bmp')\n",
    "map_data = preprocess_map(map_data)\n",
    "show_gray_image(map_data)"
   ]
  },
  {
   "cell_type": "code",
   "execution_count": 5,
   "metadata": {},
   "outputs": [],
   "source": [
    "class Vertex:\n",
    "    \n",
    "    def __init__(self, x, y):\n",
    "        self.x = x\n",
    "        self.y = y\n",
    "        self.adjacent = None\n",
    "        self.nearby = None\n",
    "        self.is_edge = None\n",
    "        self.edge_dist = None\n",
    "        self.debug = None\n",
    "        \n",
    "    def find_adj(self, vertices, radius):\n",
    "        self.adjacent = []\n",
    "        self.is_edge = False\n",
    "        int_radius = int(np.ceil(radius))\n",
    "        x_segment = range(max(self.x - int_radius, 0), min(self.x + int_radius + 1, vertices.shape[0]))\n",
    "        y_segment = range(max(self.y - int_radius, 0), min(self.y + int_radius + 1, vertices.shape[1]))\n",
    "        for x in x_segment:\n",
    "            for y in y_segment:\n",
    "                dist = self.calc_dist(Vertex(x, y))\n",
    "                if dist > radius:\n",
    "                    continue\n",
    "                other = vertices[x, y]\n",
    "                if other is None:\n",
    "                    self.is_edge = True\n",
    "                    self.edge_dist = dist if self.edge_dist is None else min(self.edge_dist, dist)\n",
    "                    continue\n",
    "                if self.check_passability(other, vertices):\n",
    "                    self.adjacent.append(other)\n",
    "                \n",
    "    def find_nearby(self, vertices, radius): \n",
    "\n",
    "        def update_dist(vertex, dist):\n",
    "            \n",
    "            # Remove old info.\n",
    "            if vertex in dists:\n",
    "                old_dist = dists[vertex]\n",
    "                if dist >= old_dist:\n",
    "                    return\n",
    "                if old_dist in to_process:\n",
    "                    old_set = to_process[old_dist]\n",
    "                    old_set.discard(vertex)\n",
    "                    \n",
    "            # Insert new info.\n",
    "            dists[vertex] = dist\n",
    "            if dist < radius:\n",
    "                if dist in to_process:\n",
    "                    new_set = to_process[dist]\n",
    "                else:\n",
    "                    new_set = set()\n",
    "                    to_process[dist] = new_set\n",
    "                new_set.add(vertex)\n",
    "        \n",
    "        # Dijkstra.\n",
    "        dists = { self: 0 }                          # (vertex, known dist)\n",
    "        to_process = SortedDict({ 0: set([self]) })  # (known dist, vertices)\n",
    "        while len(to_process) > 0:\n",
    "            dist, cur_set = to_process.popitem(0)\n",
    "            while len(cur_set) > 0:\n",
    "                cur = cur_set.pop()\n",
    "                for other in cur.adjacent:\n",
    "                    other_dist = dist + cur.calc_dist(other)\n",
    "                    update_dist(other, other_dist)\n",
    "                    \n",
    "        # Fill results.\n",
    "        self.nearby = {}\n",
    "        for cur, dist in dists.items():\n",
    "            if dist > radius:\n",
    "                continue\n",
    "            self.nearby[cur] = dist\n",
    "    \n",
    "    def calc_dist(self, other):\n",
    "        return np.sqrt((other.x - self.x) ** 2 + (other.y - self.y) ** 2)\n",
    "    \n",
    "    def check_passability(self, other, vertices):\n",
    "        dx = other.x - self.x\n",
    "        dy = other.y - self.y\n",
    "        x = self.x\n",
    "        y = self.y\n",
    "        current = self \n",
    "        while current is not other:\n",
    "            next_x = current.x + math.copysign(0.55, dx)\n",
    "            next_y = current.y + math.copysign(0.55, dy)\n",
    "            time_x = np.inf if dx == 0 else max((next_x - x) / dx, 0)\n",
    "            time_y = np.inf if dy == 0 else max((next_y - y) / dy, 0)\n",
    "            time = min(time_x, time_y)\n",
    "            x += time * dx\n",
    "            y += time * dy\n",
    "            current = vertices[round(x), round(y)]\n",
    "            if current is None:\n",
    "                return False\n",
    "        return True\n",
    "        \n",
    "    def __repr__(self):\n",
    "        return 'Vertex({0}, {1})'.format(self.x, self.y)"
   ]
  },
  {
   "cell_type": "code",
   "execution_count": 6,
   "metadata": {},
   "outputs": [],
   "source": [
    "def build_vertices(map_data, radius):\n",
    "    vertices = np.array([[Vertex(x, y) if map_data[x, y] != 0 else None \n",
    "                          for y in range(map_data.shape[1])]\n",
    "                         for x in range(map_data.shape[0])])\n",
    "    for row in vertices:\n",
    "        for vertex in row:\n",
    "            if vertex is None:\n",
    "                continue\n",
    "            vertex.find_adj(vertices, radius)\n",
    "    for row in vertices:\n",
    "        for vertex in row:\n",
    "            if vertex is None:\n",
    "                continue\n",
    "            vertex.find_nearby(vertices, radius)\n",
    "    return vertices\n",
    "    \n",
    "def show_submap_on_map(submap, map_data):\n",
    "    max_map_value = np.max(map_data)\n",
    "    max_edge_score = np.max(submap)\n",
    "    image = np.tile(map_data.reshape(map_data.shape + (1, )), (1, 1, 3)) / max_map_value\n",
    "    image[:, :, 1] *= (1 - submap / max_edge_score)\n",
    "    image[:, :, 2] *= (1 - submap / max_edge_score)\n",
    "    fig, ax = plt.subplots(figsize = (15, 15))\n",
    "    imgplot = ax.imshow(image, interpolation = 'nearest')\n",
    "    \n",
    "def set_debug(vertices, value):\n",
    "    for _, vertex in np.ndenumerate(vertices):\n",
    "        if vertex is None:\n",
    "            continue\n",
    "        vertex.debug = value"
   ]
  },
  {
   "cell_type": "code",
   "execution_count": 7,
   "metadata": {},
   "outputs": [
    {
     "data": {
      "image/png": "[encoded data removed]",
      "text/plain": [
       "<Figure size 1080x1080 with 1 Axes>"
      ]
     },
     "metadata": {
      "needs_background": "light"
     },
     "output_type": "display_data"
    }
   ],
   "source": [
    "radius = 5\n",
    "vertices = build_vertices(map_data, radius)\n",
    "\n",
    "edgemap = np.zeros(map_data.shape)\n",
    "for (x, y), vertex in np.ndenumerate(vertices):\n",
    "    if vertex == None:\n",
    "        continue\n",
    "    edgemap[x, y] = int(vertex.is_edge)\n",
    "show_submap_on_map(edgemap, map_data)"
   ]
  },
  {
   "cell_type": "code",
   "execution_count": 30,
   "metadata": {
    "scrolled": false
   },
   "outputs": [
    {
     "data": {
      "image/png": "[encoded data removed]",
      "text/plain": [
       "<Figure size 1080x1080 with 1 Axes>"
      ]
     },
     "metadata": {
      "needs_background": "light"
     },
     "output_type": "display_data"
    },
    {
     "data": {
      "image/png": "[encoded data removed]",
      "text/plain": [
       "<Figure size 1080x1080 with 1 Axes>"
      ]
     },
     "metadata": {
      "needs_background": "light"
     },
     "output_type": "display_data"
    }
   ],
   "source": [
    "class Scoring:\n",
    "    \n",
    "    def __init__(self, vertices):\n",
    "        self.total = 0\n",
    "        self.total_edge = 0\n",
    "        self.score_map = np.zeros(vertices.shape)\n",
    "        self.owned = 0\n",
    "        self.owner_map = np.full(vertices.shape, None)\n",
    "        for (x, y), vertex in np.ndenumerate(vertices):\n",
    "            self.total += int(vertex is not None)\n",
    "            self.total_edge += int(vertex is not None and vertex.is_edge)\n",
    "\n",
    "    def update_score(self, vertex):\n",
    "        if vertex is None:\n",
    "            return\n",
    "        owner = self.owner_map[vertex.x, vertex.y]\n",
    "        if owner is not None:\n",
    "            score = 0\n",
    "        else:\n",
    "            score = 0\n",
    "            for near in vertex.nearby:\n",
    "                score += (radius - near.edge_dist + 1) if near.is_edge else 0\n",
    "                # score += int(near.is_edge)\n",
    "        self.score_map[vertex.x, vertex.y] = score\n",
    "\n",
    "    def make_owner(self, owner):\n",
    "        if owner is None:\n",
    "            return\n",
    "        for near in owner.nearby:\n",
    "            old_owner = self.owner_map[near.x, near.y]\n",
    "            if old_owner is None or owner.nearby[near] < old_owner.nearby[near]:\n",
    "                self.owner_map[near.x, near.y] = owner\n",
    "                if old_owner is None:\n",
    "                    self.owned += 1\n",
    "                self.update_score(near)\n",
    "\n",
    "    def find_best_score(self):\n",
    "        candidate = None\n",
    "        for (x, y), vertex in np.ndenumerate(vertices):\n",
    "            if vertex is None:\n",
    "                continue\n",
    "            if candidate is None or self.score_map[vertex.x, vertex.y] > self.score_map[candidate.x, candidate.y]:\n",
    "                candidate = vertex\n",
    "        return candidate\n",
    "\n",
    "    def run(self):\n",
    "        for (x, y), vertex in np.ndenumerate(vertices):\n",
    "            self.update_score(vertex)\n",
    "        show_submap_on_map(self.score_map ** 2, map_data)\n",
    "        while self.owned < self.total:\n",
    "            next_best = self.find_best_score()\n",
    "            self.make_owner(next_best)\n",
    "        return self.owner_map\n",
    "            \n",
    "def show_ownerships_on_map(owner_map, map_data):\n",
    "    max_map_value = np.max(map_data)\n",
    "    image = np.tile(map_data.reshape(map_data.shape + (1, )), (1, 1, 3)) / max_map_value\n",
    "    owners_to_colors = {}\n",
    "    for (x, y), owner in np.ndenumerate(owner_map):\n",
    "        if owner is None:\n",
    "            continue\n",
    "        owners_to_colors[owner] = [0, 0, 0]\n",
    "    for owner in owners_to_colors:\n",
    "        color = np.array([0, 255, random.randrange(0, 256)]) / 255\n",
    "        random.shuffle(color)\n",
    "        owners_to_colors[owner] = color\n",
    "    for (x, y), owner in np.ndenumerate(owner_map):\n",
    "        if owner is None:\n",
    "            continue\n",
    "        color = owners_to_colors[owner]\n",
    "        if owner.x == x and owner.y == y:\n",
    "            color = 1 - 0.5 * (1 - color)\n",
    "        image[x, y] = color\n",
    "    fig, ax = plt.subplots(figsize = (15, 15))\n",
    "    imgplot = ax.imshow(image, interpolation = 'nearest')\n",
    "        \n",
    "            \n",
    "owner_map = Scoring(vertices).run()\n",
    "show_ownerships_on_map(owner_map, map_data)"
   ]
  },
  {
   "cell_type": "code",
   "execution_count": null,
   "metadata": {},
   "outputs": [],
   "source": []
  }
 ],
 "metadata": {
  "kernelspec": {
   "display_name": "Python 3",
   "language": "python",
   "name": "python3"
  },
  "language_info": {
   "codemirror_mode": {
    "name": "ipython",
    "version": 3
   },
   "file_extension": ".py",
   "mimetype": "text/x-python",
   "name": "python",
   "nbconvert_exporter": "python",
   "pygments_lexer": "ipython3",
   "version": "3.7.4"
  }
 },
 "nbformat": 4,
 "nbformat_minor": 2
}
